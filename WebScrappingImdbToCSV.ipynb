{
 "cells": [
  {
   "cell_type": "code",
   "execution_count": 20,
   "id": "c808e9db",
   "metadata": {},
   "outputs": [],
   "source": [
    "\n",
    "from bs4 import BeautifulSoup\n",
    "import requests\n",
    "import time\n",
    "import datetime\n",
    "\n",
    "import smtplib\n",
    "from csv import writer"
   ]
  },
  {
   "cell_type": "code",
   "execution_count": 23,
   "id": "e404ce83",
   "metadata": {},
   "outputs": [
    {
     "name": "stdout",
     "output_type": "stream",
     "text": [
      "250\n"
     ]
    }
   ],
   "source": [
    "source=requests.get(\"https://www.imdb.com/chart/top/\")\n",
    "try:\n",
    "    source.raise_for_status()\n",
    "    soup=BeautifulSoup(source.text,'html.parser')\n",
    "    movies=soup.find('tbody',class_='lister-list').find_all('tr')\n",
    "    print(len(movies))\n",
    "    \n",
    "    with open('TopMovies.csv','w',encoding='utf-8',newline='') as f:\n",
    "        thewriter=writer(f)\n",
    "        header=['Rank',\"Name\",\"year\", \"Rating\"]\n",
    "        thewriter.writerow(header)\n",
    "\n",
    "        for movie in movies:\n",
    "            name=movie.find('td', class_='titleColumn').a.text\n",
    "            rank=movie.find('td', class_='titleColumn').get_text(strip=True).split('.')[0]\n",
    "            year=movie.find('td', class_='titleColumn').span.text.strip('()')\n",
    "            rating=movie.find('td', class_='ratingColumn imdbRating').strong.text\n",
    "            info=[rank,name,year,rating]\n",
    "            thewriter.writerow(info)\n",
    "        \n",
    "except Exception as e:\n",
    "    print(e)\n",
    "    \n",
    "\n"
   ]
  },
  {
   "cell_type": "code",
   "execution_count": null,
   "id": "45c9deb8",
   "metadata": {},
   "outputs": [],
   "source": []
  }
 ],
 "metadata": {
  "kernelspec": {
   "display_name": "Python 3 (ipykernel)",
   "language": "python",
   "name": "python3"
  },
  "language_info": {
   "codemirror_mode": {
    "name": "ipython",
    "version": 3
   },
   "file_extension": ".py",
   "mimetype": "text/x-python",
   "name": "python",
   "nbconvert_exporter": "python",
   "pygments_lexer": "ipython3",
   "version": "3.9.7"
  }
 },
 "nbformat": 4,
 "nbformat_minor": 5
}
